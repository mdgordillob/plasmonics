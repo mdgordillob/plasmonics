{
 "cells": [
  {
   "cell_type": "code",
   "execution_count": 84,
   "metadata": {},
   "outputs": [
    {
     "name": "stdout",
     "output_type": "stream",
     "text": [
      "Requirement already satisfied: numpy in c:\\python39\\lib\\site-packages (1.20.3)\n"
     ]
    },
    {
     "name": "stderr",
     "output_type": "stream",
     "text": [
      "WARNING: You are using pip version 21.1.1; however, version 21.1.2 is available.\n",
      "You should consider upgrading via the 'c:\\python39\\python.exe -m pip install --upgrade pip' command.\n"
     ]
    },
    {
     "name": "stdout",
     "output_type": "stream",
     "text": [
      "Requirement already satisfied: scipy in c:\\python39\\lib\\site-packages (1.6.3)\n",
      "Requirement already satisfied: numpy<1.23.0,>=1.16.5 in c:\\python39\\lib\\site-packages (from scipy) (1.20.3)\n"
     ]
    },
    {
     "name": "stderr",
     "output_type": "stream",
     "text": [
      "WARNING: You are using pip version 21.1.1; however, version 21.1.2 is available.\n",
      "You should consider upgrading via the 'c:\\python39\\python.exe -m pip install --upgrade pip' command.\n"
     ]
    },
    {
     "name": "stdout",
     "output_type": "stream",
     "text": [
      "Requirement already satisfied: matplotlib in c:\\python39\\lib\\site-packages (3.4.2)\n",
      "Requirement already satisfied: cycler>=0.10 in c:\\python39\\lib\\site-packages (from matplotlib) (0.10.0)\n",
      "Requirement already satisfied: pyparsing>=2.2.1 in c:\\python39\\lib\\site-packages (from matplotlib) (2.4.7)\n"
     ]
    },
    {
     "name": "stderr",
     "output_type": "stream",
     "text": [
      "WARNING: You are using pip version 21.1.1; however, version 21.1.2 is available.\n",
      "You should consider upgrading via the 'c:\\python39\\python.exe -m pip install --upgrade pip' command.\n"
     ]
    },
    {
     "name": "stdout",
     "output_type": "stream",
     "text": [
      "Requirement already satisfied: python-dateutil>=2.7 in c:\\python39\\lib\\site-packages (from matplotlib) (2.8.1)\n",
      "Requirement already satisfied: kiwisolver>=1.0.1 in c:\\python39\\lib\\site-packages (from matplotlib) (1.3.1)\n",
      "Requirement already satisfied: numpy>=1.16 in c:\\python39\\lib\\site-packages (from matplotlib) (1.20.3)\n",
      "Requirement already satisfied: pillow>=6.2.0 in c:\\python39\\lib\\site-packages (from matplotlib) (8.2.0)\n",
      "Requirement already satisfied: six in c:\\python39\\lib\\site-packages (from cycler>=0.10->matplotlib) (1.16.0)\n",
      "Requirement already satisfied: pandas in c:\\python39\\lib\\site-packages (1.2.4)\n",
      "Requirement already satisfied: pytz>=2017.3 in c:\\python39\\lib\\site-packages (from pandas) (2021.1)\n",
      "Requirement already satisfied: python-dateutil>=2.7.3 in c:\\python39\\lib\\site-packages (from pandas) (2.8.1)\n",
      "Requirement already satisfied: numpy>=1.16.5 in c:\\python39\\lib\\site-packages (from pandas) (1.20.3)\n",
      "Requirement already satisfied: six>=1.5 in c:\\python39\\lib\\site-packages (from python-dateutil>=2.7.3->pandas) (1.16.0)\n"
     ]
    },
    {
     "name": "stderr",
     "output_type": "stream",
     "text": [
      "WARNING: You are using pip version 21.1.1; however, version 21.1.2 is available.\n",
      "You should consider upgrading via the 'c:\\python39\\python.exe -m pip install --upgrade pip' command.\n"
     ]
    }
   ],
   "source": [
    "import sys\n",
    "!{sys.executable} -m pip install numpy\n",
    "!{sys.executable} -m pip install scipy\n",
    "!{sys.executable} -m pip install matplotlib\n",
    "!{sys.executable} -m pip install pandas\n",
    "import numpy as np\n",
    "import scipy as sp\n",
    "import pandas as pd\n",
    "from scipy import ndimage\n",
    "import matplotlib.pyplot as plt\n",
    "from scipy import interpolate\n",
    "from scipy.interpolate import griddata\n",
    "from scipy.interpolate import RectBivariateSpline,bisplrep,CloughTocher2DInterpolator"
   ]
  },
  {
   "cell_type": "code",
   "execution_count": 11,
   "metadata": {
    "scrolled": true
   },
   "outputs": [
    {
     "data": {
      "image/png": "[encoded data removed]",
      "text/plain": [
       "<Figure size 432x288 with 1 Axes>"
      ]
     },
     "metadata": {
      "needs_background": "light"
     },
     "output_type": "display_data"
    }
   ],
   "source": [
    "N=64\n",
    "M=64\n",
    "L=3\n",
    "vs1=3\n",
    "vs2=-3\n",
    "dt=0.1\n",
    "g=0\n",
    "vth=0.02\n",
    "h=1/((N-1)**2)\n",
    "x=np.linspace(0,L,N)\n",
    "v=np.linspace(-vs1,vs1,M)\n",
    "xx,vv=np.meshgrid(x,v,indexing=\"xy\")\n",
    "vth=0.2\n",
    "f0=(1/(vth*np.sqrt(2*np.pi)))*np.exp(-0.5*(vv/vth)**2)*(1+0.3*np.cos(5*xx))\n",
    "plt.imshow(f0)\n",
    "k=np.zeros(N)\n",
    "k1=np.zeros(N)\n",
    "while(g<14):\n",
    "    f = interpolate.interp2d(x, v, f0, kind='cubic')\n",
    "    for o in range(N):\n",
    "            k[o]=x[o]-g*v[o]*dt*0.5\n",
    "    fnew=f(k,v)\n",
    "    ne=np.zeros(N)\n",
    "    dv=0.1\n",
    "    for i in range (0,N):\n",
    "        ne[i]=0\n",
    "        for j in range (0,M-1):\n",
    "            ne[i]=+0.5*(fnew[i][j+1]+fnew[i][j])*dv          \n",
    "    rho=ne-1\n",
    "    A=np.zeros((N,N))\n",
    "    A.fill(-1)\n",
    "    A=(1/h)*A\n",
    "    np.fill_diagonal(A, 2)\n",
    "    phi=np.linalg.inv(A).dot(rho)\n",
    "    EL=np.zeros(N)\n",
    "    intphi=interpolate.interp1d(x,phi, kind='cubic')\n",
    "    E=np.gradient(phi,x)\n",
    "    for o in range(N):\n",
    "        k1[o]=v[o]+E[o]*dt\n",
    "    f1 = interpolate.interp2d(x, v, fnew, kind='quintic')\n",
    "    fnew1=f1(x,k1)\n",
    "    f2 = interpolate.interp2d(x, v, fnew1, kind='quintic') \n",
    "    for o in range(N):\n",
    "        k1[o]=x[o]-v[o]*dt*0.5\n",
    "    fnew2=f2(k1,v)\n",
    "    f0=fnew2\n",
    "    g=g+1"
   ]
  },
  {
   "cell_type": "code",
   "execution_count": 12,
   "metadata": {},
   "outputs": [
    {
     "data": {
      "text/plain": [
       "<matplotlib.colorbar.Colorbar at 0x289a389c940>"
      ]
     },
     "execution_count": 12,
     "metadata": {},
     "output_type": "execute_result"
    },
    {
     "data": {
      "image/png": "[encoded data removed]",
      "text/plain": [
       "<Figure size 432x288 with 2 Axes>"
      ]
     },
     "metadata": {
      "needs_background": "light"
     },
     "output_type": "display_data"
    }
   ],
   "source": [
    "plt.imshow(f0)\n",
    "plt.colorbar()"
   ]
  },
  {
   "cell_type": "code",
   "execution_count": null,
   "metadata": {},
   "outputs": [],
   "source": []
  },
  {
   "cell_type": "code",
   "execution_count": 13,
   "metadata": {},
   "outputs": [
    {
     "data": {
      "text/plain": [
       "[<matplotlib.lines.Line2D at 0x2899f714610>]"
      ]
     },
     "execution_count": 13,
     "metadata": {},
     "output_type": "execute_result"
    },
    {
     "data": {
      "image/png": "[encoded data removed]",
      "text/plain": [
       "<Figure size 432x288 with 1 Axes>"
      ]
     },
     "metadata": {
      "needs_background": "light"
     },
     "output_type": "display_data"
    }
   ],
   "source": [
    "plt.plot(x,E)\n"
   ]
  },
  {
   "cell_type": "code",
   "execution_count": null,
   "metadata": {},
   "outputs": [],
   "source": []
  },
  {
   "cell_type": "code",
   "execution_count": 159,
   "metadata": {},
   "outputs": [
    {
     "data": {
      "text/plain": [
       "<matplotlib.image.AxesImage at 0x289aaed8fd0>"
      ]
     },
     "execution_count": 159,
     "metadata": {},
     "output_type": "execute_result"
    },
    {
     "data": {
      "image/png": "[encoded data removed]",
      "text/plain": [
       "<Figure size 432x288 with 1 Axes>"
      ]
     },
     "metadata": {
      "needs_background": "light"
     },
     "output_type": "display_data"
    }
   ],
   "source": [
    "g=0\n",
    "def Efield(f,x,v,N,M):\n",
    "    ne=np.zeros(N)\n",
    "    for i in range(N):\n",
    "        ne[i] = np.trapz(f[:,i], x)\n",
    "    rho=ne-1\n",
    "    rho=np.transpose(rho)\n",
    "    A=np.zeros((N,N))\n",
    "    A.fill(-1)\n",
    "    np.fill_diagonal(A, 2)\n",
    "    phi=np.linalg.inv(A).dot(rho)\n",
    "    E=np.gradient(phi,x)\n",
    "    return E\n",
    "\n",
    "def BC(f,M):\n",
    "    for j in range(0,M):\n",
    "        f[0][j]=0.5*(f[0][j]+f[M-1][j])\n",
    "        f[M-1][j]= f[0][j]\n",
    "    return f   \n",
    "\n",
    "def f0(x,v):\n",
    "    N=33\n",
    "    M=33\n",
    "    L=2\n",
    "    f=(0.5/np.sqrt(vth2*np.pi)) * np.exp(-((v-vs1)*(v-vs1))/vth2)\n",
    "    f+=(0.5/np.sqrt(vth2*np.pi)) * np.exp(-((v-vs2)*(v-vs2))/vth2)*(1+0.02*np.cos(3*np.pi*x/L))\n",
    "    return f\n",
    "while(g<1):\n",
    "    dt=1/8\n",
    "    vth2 = 0.02\n",
    "    vmax=3\n",
    "    L=2\n",
    "    N=99\n",
    "    M=99\n",
    "    dx=L/N\n",
    "    dv=vmax/M\n",
    "    x=np.linspace(0,L,N)\n",
    "    v=np.linspace(-vmax,vmax,M)\n",
    "    vs1 = 1.6 \n",
    "    vs2 = -1.4\n",
    "    f99=np.zeros((N,M))\n",
    "    fnew4=np.zeros((N,M))\n",
    "    fnew5=np.zeros((N,M))\n",
    "    fnew6=np.zeros((N,M))\n",
    "    X,V=np.meshgrid(x,v,indexing=\"ij\")\n",
    "    fnew4=f0(X,V)\n",
    "    points=np.column_stack((x,v))\n",
    "    values = f0(x,v)\n",
    "    grid_z2 = griddata(points, values, (X-0.5*V*dt, V), method='nearest')\n",
    "    g=g+1\n",
    "plt.imshow(grid_z2)"
   ]
  },
  {
   "cell_type": "code",
   "execution_count": null,
   "metadata": {},
   "outputs": [],
   "source": []
  },
  {
   "cell_type": "code",
   "execution_count": 133,
   "metadata": {},
   "outputs": [
    {
     "data": {
      "text/plain": [
       "<matplotlib.image.AxesImage at 0x289a9462b80>"
      ]
     },
     "execution_count": 133,
     "metadata": {},
     "output_type": "execute_result"
    },
    {
     "data": {
      "image/png": "[encoded data removed]",
      "text/plain": [
       "<Figure size 432x288 with 1 Axes>"
      ]
     },
     "metadata": {
      "needs_background": "light"
     },
     "output_type": "display_data"
    }
   ],
   "source": [
    "plt.imshow(fnew4)"
   ]
  },
  {
   "cell_type": "code",
   "execution_count": 64,
   "metadata": {},
   "outputs": [],
   "source": [
    "def interp(f,x,v,dx,dv,N,M):\n",
    "    fi=(x-0)/dx\n",
    "    fj=(v-(-vmax))/dv\n",
    "    if(fi<0):\n",
    "        fi+=N-1\n",
    "    if(fi>N-1):\n",
    "        fi=fi-N-1\n",
    "    else:\n",
    "        if fi<0 or fi>=N-1:\n",
    "            return 0\n",
    "        if fj<=0 or fj>=M-1:\n",
    "            return 0\n",
    "    i=np.int(fi)\n",
    "    j=np.int(fj)\n",
    "    di=fi-i\n",
    "    dj=fj-j\n",
    "    val=(1-di)*(1-dj)*f[i][j]\n",
    "    if i<N-1:\n",
    "        val+=(di)*(1-dj)*f[i+1][j]\n",
    "    if j<M-1:\n",
    "        val+=(1-di)*(dj)*f[i][j+1]\n",
    "    if j<M-1 and i<N-1:\n",
    "        val+=(1-di)*(1-dj)*f[i+1][j+1]\n",
    "    return val\n"
   ]
  },
  {
   "cell_type": "code",
   "execution_count": null,
   "metadata": {},
   "outputs": [],
   "source": [
    "while(g<2):\n",
    "    for j in range (0,N-1):\n",
    "        for i in range (0,M-1):\n",
    "                fnew4[i][j]=interp(f99,x[i]-0.5*dt*np.abs(v[j]),v[j],dx,dv,N,M)\n",
    "  \n",
    "    f99=fnew4\n",
    "    fnew4=BC(fnew4,M)\n",
    "    E=Efield(fnew4,x,v,N,M)\n",
    "    for j in range (0,N-1):\n",
    "        for i in range (0,M-1):\n",
    "                fnew5[i][j]=interp(fnew4,x[i],v[j]-E[i]*dt,dx,dv,N,M)\n",
    "    fnew5=BC(fnew5,M)\n",
    "    for j in range (0,N-1):\n",
    "        for i in range (0,M-1):\n",
    "                fnew6[i][j]=interp(fnew5,x[i]-0.5*dt*np.abs(v[j]),v[j],dx,dv,N,M)\n",
    "    fnew6=BC(fnew6,M)\n",
    "    f99=fnew6\n",
    "    g=g+1"
   ]
  }
 ],
 "metadata": {
  "kernelspec": {
   "display_name": "Python 3",
   "language": "python",
   "name": "python3"
  },
  "language_info": {
   "codemirror_mode": {
    "name": "ipython",
    "version": 3
   },
   "file_extension": ".py",
   "mimetype": "text/x-python",
   "name": "python",
   "nbconvert_exporter": "python",
   "pygments_lexer": "ipython3",
   "version": "3.9.5"
  }
 },
 "nbformat": 4,
 "nbformat_minor": 4
}
